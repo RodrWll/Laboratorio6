{
 "cells": [
  {
   "cell_type": "markdown",
   "metadata": {},
   "source": [
    "## Read Motor Response Data\n",
    "\n",
    "This python notebook is used to read the serial output from the Arduino UNO, which should be connected to the device that will run the notebook, of the omnidirectional robot. This script read the serial input, plot the data and export it in `*.csv` format."
   ]
  },
  {
   "cell_type": "markdown",
   "metadata": {},
   "source": [
    "### Read COM Serial"
   ]
  },
  {
   "cell_type": "code",
   "execution_count": null,
   "metadata": {},
   "outputs": [],
   "source": [
    "import serial\n",
    "import time\n",
    "\n",
    "# Vegin connection\n",
    "ser = serial.Serial('COM3', 9600, timeout=1)\n",
    "time.sleep(2)\n",
    "\n",
    "# Check serial port\n",
    "if ser.is_open:\n",
    "    t = []  # Time array\n",
    "    y = []  # Velocity array\n",
    "\n",
    "    # Read input\n",
    "    try:\n",
    "        while True:\n",
    "            if ser.in_waiting > 0: \n",
    "                line = ser.readline().decode('utf-8').rstrip() \n",
    "                data = line.split(',')\n",
    "                t.append(float(data[0])/(10**6))\n",
    "                y.append(float(data[1]))\n",
    "                print(\"Time (s) = \"+str(float(data[0])/(10**6))+\", Velocity (RPM) = \"+str(float(data[1])))\n",
    "                \n",
    "    except KeyboardInterrupt:\n",
    "        print(\"Exiting program.\")\n",
    "\n",
    "    # Close serial port\n",
    "    finally:\n",
    "        ser.close()\n",
    "else:\n",
    "    print(\"Serial port is not open.\")"
   ]
  },
  {
   "cell_type": "markdown",
   "metadata": {},
   "source": [
    "### Plot Motor Data"
   ]
  },
  {
   "cell_type": "code",
   "execution_count": null,
   "metadata": {},
   "outputs": [],
   "source": [
    "import matplotlib.pyplot as plt\n",
    "# Definimos el número de gráficas\n",
    "_ , axs = plt.subplots(1,1, figsize=(30,7))\n",
    "\n",
    "# Graficamos el error de posición cartesiana\n",
    "axs.set_title('Motor response')\n",
    "axs.plot(t, y, color='red', linestyle='-')\n",
    "axs.set_ylabel('Velocity (rpm)')\n",
    "axs.set_xlabel('Time (s)')\n",
    "axs.legend(loc='upper left')\n",
    "axs.grid()\n",
    "\n",
    "# Mostramos el gráfico\n",
    "plt.show()"
   ]
  },
  {
   "cell_type": "markdown",
   "metadata": {},
   "source": [
    "### Write Data File"
   ]
  },
  {
   "cell_type": "code",
   "execution_count": 11,
   "metadata": {},
   "outputs": [],
   "source": [
    "import csv\n",
    "with open('MotorData.csv', mode='w', newline='') as file:\n",
    "    writer = csv.writer(file)\n",
    "    \n",
    "    # Write data row by row in the \"left_number,right_number\" format\n",
    "    for i in range(len(t)):\n",
    "        writer.writerow([t[i], \"{:.6f}\".format(y[i])])"
   ]
  }
 ],
 "metadata": {
  "kernelspec": {
   "display_name": "Python 3",
   "language": "python",
   "name": "python3"
  },
  "language_info": {
   "codemirror_mode": {
    "name": "ipython",
    "version": 3
   },
   "file_extension": ".py",
   "mimetype": "text/x-python",
   "name": "python",
   "nbconvert_exporter": "python",
   "pygments_lexer": "ipython3",
   "version": "3.8.10"
  }
 },
 "nbformat": 4,
 "nbformat_minor": 2
}
